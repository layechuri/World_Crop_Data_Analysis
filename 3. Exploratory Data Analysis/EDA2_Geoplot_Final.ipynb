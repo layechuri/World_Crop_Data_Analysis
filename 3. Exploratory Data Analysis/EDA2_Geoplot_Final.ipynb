{
 "cells": [
  {
   "cell_type": "markdown",
   "metadata": {},
   "source": [
    "# EDA 1\n",
    "## Choropleth Maps "
   ]
  },
  {
   "cell_type": "code",
   "execution_count": 276,
   "metadata": {},
   "outputs": [
    {
     "data": {
      "text/html": [
       "        <script type=\"text/javascript\">\n",
       "        window.PlotlyConfig = {MathJaxConfig: 'local'};\n",
       "        if (window.MathJax) {MathJax.Hub.Config({SVG: {font: \"STIX-Web\"}});}\n",
       "        if (typeof require !== 'undefined') {\n",
       "        require.undef(\"plotly\");\n",
       "        requirejs.config({\n",
       "            paths: {\n",
       "                'plotly': ['https://cdn.plot.ly/plotly-2.2.0.min']\n",
       "            }\n",
       "        });\n",
       "        require(['plotly'], function(Plotly) {\n",
       "            window._Plotly = Plotly;\n",
       "        });\n",
       "        }\n",
       "        </script>\n",
       "        "
      ]
     },
     "metadata": {},
     "output_type": "display_data"
    }
   ],
   "source": [
    "import plotly.graph_objs as go \n",
    "from plotly.offline import init_notebook_mode,iplot,plot\n",
    "init_notebook_mode(connected=True) \n",
    "import pandas as pd\n",
    "import plotly.express as px"
   ]
  },
  {
   "cell_type": "code",
   "execution_count": 277,
   "metadata": {},
   "outputs": [],
   "source": [
    "# read the data set\n",
    "df = pd.read_csv(\"Data_Cleaning_Final_Output.csv\")"
   ]
  },
  {
   "cell_type": "code",
   "execution_count": 278,
   "metadata": {},
   "outputs": [],
   "source": [
    "# reset column names\n",
    "df.columns = df.iloc[0]\n",
    "df = df.iloc[1:]"
   ]
  },
  {
   "cell_type": "code",
   "execution_count": 279,
   "metadata": {},
   "outputs": [],
   "source": [
    "# drop unnecessary columns\n",
    "df = df.drop(columns=df.columns[2:5])\n",
    "df = df.drop(columns=df.columns[26])"
   ]
  },
  {
   "cell_type": "code",
   "execution_count": 280,
   "metadata": {},
   "outputs": [],
   "source": [
    "df2 = pd.read_csv(\"C:\\\\Users\\\\91886\\\\Desktop\\\\countries_regions.csv\")\n",
    "# reset column names\n",
    "df2.columns = df2.iloc[0]\n",
    "df2 = df2.iloc[1:]\n",
    "region_names = list(df2.columns[1:])\n",
    "counties_in_region = pd.DataFrame(region_names)\n",
    "i = 0\n",
    "counties_in_region['Country'] = ''\n",
    "for ele in region_names:\n",
    "    country_list = list(df2[(df2[ele] == 'x')].iloc[:, 0])\n",
    "    counties_in_region.iat[i,1] = ','.join(map(str,country_list))\n",
    "    i+=1\n",
    "counties_in_region = counties_in_region.rename(columns = {0:\"Region\"})\n",
    "\n",
    "countries = counties_in_region.drop(columns=counties_in_region.columns[0])"
   ]
  },
  {
   "cell_type": "code",
   "execution_count": 281,
   "metadata": {},
   "outputs": [],
   "source": [
    "region_names = list(df.columns[2:])\n",
    "region_wise_crops = pd.DataFrame(region_names)\n",
    "i = 0\n",
    "region_wise_crops['Crop_names'] = '<br>'\n",
    "region_wise_crops['Crop_counts'] = ''\n",
    "for ele in region_names:\n",
    "    crop_list = list (df[(df[ele] == 'x')].iloc[:, 0])\n",
    "    #region_wise_crops.iat[i,1] = crop_list\n",
    "    region_wise_crops.iat[i,1] = '<br>'.join(map(str,crop_list))\n",
    "    region_wise_crops.iat[i,2] = len(crop_list)\n",
    "    i+=1\n",
    "\n",
    "\n",
    "region_wise_crops = region_wise_crops.rename(columns = {0:\"Region\"})\n",
    "\n",
    "region_wise_crops = pd.concat([region_wise_crops,countries], axis=1)"
   ]
  },
  {
   "cell_type": "code",
   "execution_count": 282,
   "metadata": {},
   "outputs": [
    {
     "data": {
      "text/html": [
       "<div>\n",
       "<style scoped>\n",
       "    .dataframe tbody tr th:only-of-type {\n",
       "        vertical-align: middle;\n",
       "    }\n",
       "\n",
       "    .dataframe tbody tr th {\n",
       "        vertical-align: top;\n",
       "    }\n",
       "\n",
       "    .dataframe thead th {\n",
       "        text-align: right;\n",
       "    }\n",
       "</style>\n",
       "<table border=\"1\" class=\"dataframe\">\n",
       "  <thead>\n",
       "    <tr style=\"text-align: right;\">\n",
       "      <th></th>\n",
       "      <th>Crop_names</th>\n",
       "      <th>Crop_counts</th>\n",
       "      <th>Region</th>\n",
       "      <th>Country</th>\n",
       "    </tr>\n",
       "  </thead>\n",
       "  <tbody>\n",
       "    <tr>\n",
       "      <th>0</th>\n",
       "      <td>Coffee&lt;br&gt;Cowpeas&lt;br&gt;Kola nuts&lt;br&gt;Palm oil&lt;br&gt;...</td>\n",
       "      <td>8</td>\n",
       "      <td>Central Africa</td>\n",
       "      <td>Angola</td>\n",
       "    </tr>\n",
       "    <tr>\n",
       "      <th>1</th>\n",
       "      <td>Coffee&lt;br&gt;Cowpeas&lt;br&gt;Kola nuts&lt;br&gt;Palm oil&lt;br&gt;...</td>\n",
       "      <td>8</td>\n",
       "      <td>Central Africa</td>\n",
       "      <td>Cameroon</td>\n",
       "    </tr>\n",
       "    <tr>\n",
       "      <th>2</th>\n",
       "      <td>Coffee&lt;br&gt;Cowpeas&lt;br&gt;Kola nuts&lt;br&gt;Palm oil&lt;br&gt;...</td>\n",
       "      <td>8</td>\n",
       "      <td>Central Africa</td>\n",
       "      <td>Central African Republic</td>\n",
       "    </tr>\n",
       "    <tr>\n",
       "      <th>3</th>\n",
       "      <td>Coffee&lt;br&gt;Cowpeas&lt;br&gt;Kola nuts&lt;br&gt;Palm oil&lt;br&gt;...</td>\n",
       "      <td>8</td>\n",
       "      <td>Central Africa</td>\n",
       "      <td>Congo</td>\n",
       "    </tr>\n",
       "    <tr>\n",
       "      <th>4</th>\n",
       "      <td>Coffee&lt;br&gt;Cowpeas&lt;br&gt;Kola nuts&lt;br&gt;Palm oil&lt;br&gt;...</td>\n",
       "      <td>8</td>\n",
       "      <td>Central Africa</td>\n",
       "      <td>Democratic Republic of the Congo</td>\n",
       "    </tr>\n",
       "    <tr>\n",
       "      <th>...</th>\n",
       "      <td>...</td>\n",
       "      <td>...</td>\n",
       "      <td>...</td>\n",
       "      <td>...</td>\n",
       "    </tr>\n",
       "    <tr>\n",
       "      <th>228</th>\n",
       "      <td>Coconuts&lt;br&gt;Melons&lt;br&gt;Roots, other&lt;br&gt;Taro</td>\n",
       "      <td>4</td>\n",
       "      <td>Tropical Pacific Region</td>\n",
       "      <td>Tonga</td>\n",
       "    </tr>\n",
       "    <tr>\n",
       "      <th>229</th>\n",
       "      <td>Coconuts&lt;br&gt;Melons&lt;br&gt;Roots, other&lt;br&gt;Taro</td>\n",
       "      <td>4</td>\n",
       "      <td>Tropical Pacific Region</td>\n",
       "      <td>Tuvalu</td>\n",
       "    </tr>\n",
       "    <tr>\n",
       "      <th>230</th>\n",
       "      <td>Coconuts&lt;br&gt;Melons&lt;br&gt;Roots, other&lt;br&gt;Taro</td>\n",
       "      <td>4</td>\n",
       "      <td>Tropical Pacific Region</td>\n",
       "      <td>Vanuatu</td>\n",
       "    </tr>\n",
       "    <tr>\n",
       "      <th>231</th>\n",
       "      <td>Coconuts&lt;br&gt;Melons&lt;br&gt;Roots, other&lt;br&gt;Taro</td>\n",
       "      <td>4</td>\n",
       "      <td>Tropical Pacific Region</td>\n",
       "      <td>Wallis and Futuna Islands</td>\n",
       "    </tr>\n",
       "    <tr>\n",
       "      <th>232</th>\n",
       "      <td>Berries nes&lt;br&gt;Beverages, alcoholic&lt;br&gt;Beverag...</td>\n",
       "      <td>27</td>\n",
       "      <td>Not Specified</td>\n",
       "      <td>NaN</td>\n",
       "    </tr>\n",
       "  </tbody>\n",
       "</table>\n",
       "<p>233 rows × 4 columns</p>\n",
       "</div>"
      ],
      "text/plain": [
       "                                            Crop_names  Crop_counts  \\\n",
       "0    Coffee<br>Cowpeas<br>Kola nuts<br>Palm oil<br>...            8   \n",
       "1    Coffee<br>Cowpeas<br>Kola nuts<br>Palm oil<br>...            8   \n",
       "2    Coffee<br>Cowpeas<br>Kola nuts<br>Palm oil<br>...            8   \n",
       "3    Coffee<br>Cowpeas<br>Kola nuts<br>Palm oil<br>...            8   \n",
       "4    Coffee<br>Cowpeas<br>Kola nuts<br>Palm oil<br>...            8   \n",
       "..                                                 ...          ...   \n",
       "228         Coconuts<br>Melons<br>Roots, other<br>Taro            4   \n",
       "229         Coconuts<br>Melons<br>Roots, other<br>Taro            4   \n",
       "230         Coconuts<br>Melons<br>Roots, other<br>Taro            4   \n",
       "231         Coconuts<br>Melons<br>Roots, other<br>Taro            4   \n",
       "232  Berries nes<br>Beverages, alcoholic<br>Beverag...           27   \n",
       "\n",
       "                      Region                           Country  \n",
       "0             Central Africa                            Angola  \n",
       "1             Central Africa                          Cameroon  \n",
       "2             Central Africa          Central African Republic  \n",
       "3             Central Africa                             Congo  \n",
       "4             Central Africa  Democratic Republic of the Congo  \n",
       "..                       ...                               ...  \n",
       "228  Tropical Pacific Region                             Tonga  \n",
       "229  Tropical Pacific Region                            Tuvalu  \n",
       "230  Tropical Pacific Region                           Vanuatu  \n",
       "231  Tropical Pacific Region         Wallis and Futuna Islands  \n",
       "232            Not Specified                               NaN  \n",
       "\n",
       "[233 rows x 4 columns]"
      ]
     },
     "execution_count": 282,
     "metadata": {},
     "output_type": "execute_result"
    }
   ],
   "source": [
    "region_wise_crops = (region_wise_crops.set_index(['Crop_names','Crop_counts','Region'])\n",
    "   .apply(lambda x: x.str.split(',').explode())\n",
    "   .reset_index())\n",
    "region_wise_crops"
   ]
  },
  {
   "cell_type": "code",
   "execution_count": 283,
   "metadata": {},
   "outputs": [
    {
     "data": {
      "text/plain": [
       "'temp-plot.html'"
      ]
     },
     "execution_count": 283,
     "metadata": {},
     "output_type": "execute_result"
    }
   ],
   "source": [
    "data = dict(\n",
    "        type = 'choropleth',\n",
    "        colorscale = 'Aggrnyl',\n",
    "        reversescale = True,\n",
    "        locations = region_wise_crops['Country'],\n",
    "        locationmode = \"country names\",\n",
    "        z = region_wise_crops['Crop_counts'],\n",
    "        text = \"Region: \" + region_wise_crops[\"Region\"].astype(str) + \"<br>Crops Originated:<br> \" \n",
    "                  + region_wise_crops[\"Crop_names\"].astype(str),\n",
    "        colorbar = {'title' : 'Number of crops originated'}) \n",
    "\n",
    "layout = dict(title = 'Crop Origins',\n",
    "              geo = dict(showframe = False,projection = {'type':'mercator'}))\n",
    "choromap = go.Figure(data = [data],layout = layout)\n",
    "plot(choromap,validate=False)"
   ]
  }
 ],
 "metadata": {
  "kernelspec": {
   "display_name": "Python 3",
   "language": "python",
   "name": "python3"
  },
  "language_info": {
   "codemirror_mode": {
    "name": "ipython",
    "version": 3
   },
   "file_extension": ".py",
   "mimetype": "text/x-python",
   "name": "python",
   "nbconvert_exporter": "python",
   "pygments_lexer": "ipython3",
   "version": "3.8.8"
  }
 },
 "nbformat": 4,
 "nbformat_minor": 1
}
