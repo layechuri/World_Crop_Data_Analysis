{
 "cells": [
  {
   "cell_type": "code",
   "execution_count": 5,
   "id": "f220ede7",
   "metadata": {},
   "outputs": [
    {
     "data": {
      "text/html": [
       "<div>\n",
       "<style scoped>\n",
       "    .dataframe tbody tr th:only-of-type {\n",
       "        vertical-align: middle;\n",
       "    }\n",
       "\n",
       "    .dataframe tbody tr th {\n",
       "        vertical-align: top;\n",
       "    }\n",
       "\n",
       "    .dataframe thead th {\n",
       "        text-align: right;\n",
       "    }\n",
       "</style>\n",
       "<table border=\"1\" class=\"dataframe\">\n",
       "  <thead>\n",
       "    <tr style=\"text-align: right;\">\n",
       "      <th></th>\n",
       "      <th>Unnamed: 0</th>\n",
       "      <th>Index</th>\n",
       "      <th>Scientific</th>\n",
       "      <th>Synonym</th>\n",
       "      <th>English</th>\n",
       "      <th>Dutch</th>\n",
       "      <th>Spanish</th>\n",
       "      <th>French</th>\n",
       "      <th>German</th>\n",
       "      <th>Italian</th>\n",
       "      <th>...</th>\n",
       "      <th>family</th>\n",
       "      <th>order</th>\n",
       "      <th>crop_categories</th>\n",
       "      <th>Count of Crop Categories</th>\n",
       "      <th>proverbs</th>\n",
       "      <th>recipies</th>\n",
       "      <th>Count of Annual, biennial, or perennial</th>\n",
       "      <th>Count of Climate and weather</th>\n",
       "      <th>Count of Pollination</th>\n",
       "      <th>Count of Evergreen or Deciduous</th>\n",
       "    </tr>\n",
       "  </thead>\n",
       "  <tbody>\n",
       "    <tr>\n",
       "      <th>0</th>\n",
       "      <td>0</td>\n",
       "      <td>0</td>\n",
       "      <td>['Abelmoschus caillei']</td>\n",
       "      <td></td>\n",
       "      <td>West African okra</td>\n",
       "      <td>NaN</td>\n",
       "      <td>NaN</td>\n",
       "      <td>Gombo ouest-africain</td>\n",
       "      <td>NaN</td>\n",
       "      <td>NaN</td>\n",
       "      <td>...</td>\n",
       "      <td>Malvaceae</td>\n",
       "      <td>Malvales</td>\n",
       "      <td>Vegetables,Fruit vegetables,Food crops,Tropica...</td>\n",
       "      <td>4</td>\n",
       "      <td>NaN</td>\n",
       "      <td>NaN</td>\n",
       "      <td>0</td>\n",
       "      <td>0</td>\n",
       "      <td>0</td>\n",
       "      <td>0</td>\n",
       "    </tr>\n",
       "    <tr>\n",
       "      <th>1</th>\n",
       "      <td>1</td>\n",
       "      <td>1</td>\n",
       "      <td>['Abelmoschus esculentus']</td>\n",
       "      <td>['Hibiscus esculentus']</td>\n",
       "      <td>Ladies fingers,Lady fingers,Lady’s fingers,Okra</td>\n",
       "      <td>Okra</td>\n",
       "      <td>Gombo,Ocra,Quimbombo</td>\n",
       "      <td>Gombo,Okra</td>\n",
       "      <td>Okra</td>\n",
       "      <td>Abelmosco,Gombo</td>\n",
       "      <td>...</td>\n",
       "      <td>Malvaceae</td>\n",
       "      <td>Malvales</td>\n",
       "      <td>Vegetables,Fruit vegetables,Podded vegetables,...</td>\n",
       "      <td>5</td>\n",
       "      <td>You can’t eat okra with just one fingerAn okra...</td>\n",
       "      <td>Lady fingers recipeRinse pods. Slice off the t...</td>\n",
       "      <td>2</td>\n",
       "      <td>2</td>\n",
       "      <td>1</td>\n",
       "      <td>0</td>\n",
       "    </tr>\n",
       "    <tr>\n",
       "      <th>2</th>\n",
       "      <td>2</td>\n",
       "      <td>2</td>\n",
       "      <td>['Acacia mearnsii']</td>\n",
       "      <td></td>\n",
       "      <td>Black wattle</td>\n",
       "      <td>NaN</td>\n",
       "      <td>NaN</td>\n",
       "      <td>Acacia noir</td>\n",
       "      <td>NaN</td>\n",
       "      <td>NaN</td>\n",
       "      <td>...</td>\n",
       "      <td>Fabaceae</td>\n",
       "      <td>Fabales</td>\n",
       "      <td>Subtropical crops,Temperate crops</td>\n",
       "      <td>2</td>\n",
       "      <td>NaN</td>\n",
       "      <td>NaN</td>\n",
       "      <td>0</td>\n",
       "      <td>0</td>\n",
       "      <td>0</td>\n",
       "      <td>0</td>\n",
       "    </tr>\n",
       "    <tr>\n",
       "      <th>3</th>\n",
       "      <td>3</td>\n",
       "      <td>3</td>\n",
       "      <td>['Acacia senegal']</td>\n",
       "      <td></td>\n",
       "      <td>Gum acacia,Gum arabic,Gum arabic tree,Gum sene...</td>\n",
       "      <td>Arabische gom</td>\n",
       "      <td>Goma arábiga</td>\n",
       "      <td>Gomme arabique,Gommier blanc</td>\n",
       "      <td>Gummi arabicum,Gummiarabikum,Verek-Akazie</td>\n",
       "      <td>Gomma arabica</td>\n",
       "      <td>...</td>\n",
       "      <td>Fabaceae</td>\n",
       "      <td>Fabales</td>\n",
       "      <td>Medicinal plants,Tropical crops</td>\n",
       "      <td>2</td>\n",
       "      <td>NaN</td>\n",
       "      <td>NaN</td>\n",
       "      <td>0</td>\n",
       "      <td>0</td>\n",
       "      <td>0</td>\n",
       "      <td>0</td>\n",
       "    </tr>\n",
       "    <tr>\n",
       "      <th>4</th>\n",
       "      <td>4</td>\n",
       "      <td>4</td>\n",
       "      <td>['Acacia seyal']</td>\n",
       "      <td></td>\n",
       "      <td>Red acacia,Shittah tree</td>\n",
       "      <td>Arabische gom</td>\n",
       "      <td>Goma arábiga</td>\n",
       "      <td>NaN</td>\n",
       "      <td>Gummi arabicum,Gummiarabikum,Seyal-Akazie</td>\n",
       "      <td>Gomma arabica</td>\n",
       "      <td>...</td>\n",
       "      <td>Fabaceae</td>\n",
       "      <td>Fabales</td>\n",
       "      <td>Medicinal plants,Aphrodisiacs,Tropical crops</td>\n",
       "      <td>3</td>\n",
       "      <td>NaN</td>\n",
       "      <td>NaN</td>\n",
       "      <td>0</td>\n",
       "      <td>0</td>\n",
       "      <td>0</td>\n",
       "      <td>0</td>\n",
       "    </tr>\n",
       "  </tbody>\n",
       "</table>\n",
       "<p>5 rows × 52 columns</p>\n",
       "</div>"
      ],
      "text/plain": [
       "   Unnamed: 0  Index                  Scientific                  Synonym  \\\n",
       "0           0      0     ['Abelmoschus caillei']                            \n",
       "1           1      1  ['Abelmoschus esculentus']  ['Hibiscus esculentus']   \n",
       "2           2      2         ['Acacia mearnsii']                            \n",
       "3           3      3          ['Acacia senegal']                            \n",
       "4           4      4            ['Acacia seyal']                            \n",
       "\n",
       "                                             English          Dutch  \\\n",
       "0                                  West African okra            NaN   \n",
       "1    Ladies fingers,Lady fingers,Lady’s fingers,Okra           Okra   \n",
       "2                                       Black wattle            NaN   \n",
       "3  Gum acacia,Gum arabic,Gum arabic tree,Gum sene...  Arabische gom   \n",
       "4                            Red acacia,Shittah tree  Arabische gom   \n",
       "\n",
       "                Spanish                        French  \\\n",
       "0                   NaN          Gombo ouest-africain   \n",
       "1  Gombo,Ocra,Quimbombo                    Gombo,Okra   \n",
       "2                   NaN                   Acacia noir   \n",
       "3          Goma arábiga  Gomme arabique,Gommier blanc   \n",
       "4          Goma arábiga                           NaN   \n",
       "\n",
       "                                      German          Italian  ...     family  \\\n",
       "0                                        NaN              NaN  ...  Malvaceae   \n",
       "1                                       Okra  Abelmosco,Gombo  ...  Malvaceae   \n",
       "2                                        NaN              NaN  ...   Fabaceae   \n",
       "3  Gummi arabicum,Gummiarabikum,Verek-Akazie    Gomma arabica  ...   Fabaceae   \n",
       "4  Gummi arabicum,Gummiarabikum,Seyal-Akazie    Gomma arabica  ...   Fabaceae   \n",
       "\n",
       "      order                                    crop_categories  \\\n",
       "0  Malvales  Vegetables,Fruit vegetables,Food crops,Tropica...   \n",
       "1  Malvales  Vegetables,Fruit vegetables,Podded vegetables,...   \n",
       "2   Fabales                  Subtropical crops,Temperate crops   \n",
       "3   Fabales                    Medicinal plants,Tropical crops   \n",
       "4   Fabales       Medicinal plants,Aphrodisiacs,Tropical crops   \n",
       "\n",
       "   Count of Crop Categories  \\\n",
       "0                         4   \n",
       "1                         5   \n",
       "2                         2   \n",
       "3                         2   \n",
       "4                         3   \n",
       "\n",
       "                                            proverbs  \\\n",
       "0                                                NaN   \n",
       "1  You can’t eat okra with just one fingerAn okra...   \n",
       "2                                                NaN   \n",
       "3                                                NaN   \n",
       "4                                                NaN   \n",
       "\n",
       "                                            recipies  \\\n",
       "0                                                NaN   \n",
       "1  Lady fingers recipeRinse pods. Slice off the t...   \n",
       "2                                                NaN   \n",
       "3                                                NaN   \n",
       "4                                                NaN   \n",
       "\n",
       "  Count of Annual, biennial, or perennial Count of Climate and weather  \\\n",
       "0                                       0                            0   \n",
       "1                                       2                            2   \n",
       "2                                       0                            0   \n",
       "3                                       0                            0   \n",
       "4                                       0                            0   \n",
       "\n",
       "  Count of Pollination Count of Evergreen or Deciduous  \n",
       "0                    0                               0  \n",
       "1                    1                               0  \n",
       "2                    0                               0  \n",
       "3                    0                               0  \n",
       "4                    0                               0  \n",
       "\n",
       "[5 rows x 52 columns]"
      ]
     },
     "execution_count": 5,
     "metadata": {},
     "output_type": "execute_result"
    }
   ],
   "source": [
    "import pandas as pd\n",
    "import numpy as np\n",
    "import string\n",
    "from matplotlib import pyplot as plt\n",
    "import re\n",
    "df=pd.read_csv(\"Data_Cleaning_Final_Output.csv\")\n",
    "\n",
    "def clean(col):\n",
    "    for i in range(0,len(df.index)):\n",
    "        if col[i]==\"[]\":\n",
    "            col[i]=\"\"\n",
    "df.apply(clean,axis=0)\n",
    "df.head()"
   ]
  },
  {
   "cell_type": "code",
   "execution_count": 6,
   "id": "3d6752be",
   "metadata": {},
   "outputs": [
    {
     "data": {
      "text/plain": [
       "<AxesSubplot:xlabel='genus'>"
      ]
     },
     "execution_count": 6,
     "metadata": {},
     "output_type": "execute_result"
    },
    {
     "data": {
      "image/png": "[encoded data removed]",
      "text/plain": [
       "<Figure size 432x288 with 1 Axes>"
      ]
     },
     "metadata": {
      "needs_background": "light"
     },
     "output_type": "display_data"
    }
   ],
   "source": [
    "#Genus analysis\n",
    "x = df.groupby('genus').count()\n",
    "y=x.sort_values(['Index'],ascending=False)\n",
    "y['Index'].head(20).plot(kind='bar')\n",
    "\n",
    "#We can see the top 20 genus categories in the scraped data below - Citrus being one of the most widely grown and consumed class of fruits in the world tops the list. This is followed by Brassica (cruciferous vegetables) and Solanum, which consists of food crops of great importance."
   ]
  },
  {
   "cell_type": "code",
   "execution_count": 7,
   "id": "3b97a3fe",
   "metadata": {},
   "outputs": [
    {
     "data": {
      "text/plain": [
       "<AxesSubplot:xlabel='family'>"
      ]
     },
     "execution_count": 7,
     "metadata": {},
     "output_type": "execute_result"
    },
    {
     "data": {
      "image/png": "[encoded data removed]",
      "text/plain": [
       "<Figure size 432x288 with 1 Axes>"
      ]
     },
     "metadata": {
      "needs_background": "light"
     },
     "output_type": "display_data"
    }
   ],
   "source": [
    "#Family analysis\n",
    "x = df.groupby('family').count()\n",
    "y=x.sort_values(['Index'],ascending=False)\n",
    "y['Index'].head(20).plot(kind='bar')\n",
    "\n",
    "#We can see the top 20 family categories in the scraped data below. Fabaceae is the top category, which contains several important agricultural products such as beans, pea, soybean, and peanuts. Poaceae is the second-largest and comprises the majority of cereal crops. "
   ]
  },
  {
   "cell_type": "code",
   "execution_count": 8,
   "id": "70c8d11e",
   "metadata": {},
   "outputs": [
    {
     "data": {
      "text/plain": [
       "<AxesSubplot:xlabel='order'>"
      ]
     },
     "execution_count": 8,
     "metadata": {},
     "output_type": "execute_result"
    },
    {
     "data": {
      "image/png": "[encoded data removed]",
      "text/plain": [
       "<Figure size 432x288 with 1 Axes>"
      ]
     },
     "metadata": {
      "needs_background": "light"
     },
     "output_type": "display_data"
    }
   ],
   "source": [
    "#Order analysis\n",
    "x = df.groupby('order').count()\n",
    "y=x.sort_values(['Index'],ascending=False)\n",
    "y['Index'].head(20).plot(kind='bar')\n",
    "\n",
    "#We can see the top 20 orders in the scraped data below-Fabales are the most important family of food plants; Rosales, consists of several economically important fruit;Sapindales, consists of many well-known citrus fruits. "
   ]
  },
  {
   "cell_type": "code",
   "execution_count": 9,
   "id": "e0b65f54",
   "metadata": {},
   "outputs": [
    {
     "data": {
      "text/plain": [
       "Count of Pollination\n",
       "1    51\n",
       "2    25\n",
       "3     2\n",
       "Name: Index, dtype: int64"
      ]
     },
     "execution_count": 9,
     "metadata": {},
     "output_type": "execute_result"
    }
   ],
   "source": [
    "#Pollination analysis: Distribution of crops by the number of pollination methods\n",
    "x1 = df[df['Count of Pollination']>0]\n",
    "x = x1.groupby('Count of Pollination').count()\n",
    "y=x.sort_values(['Count of Pollination'],ascending=True)\n",
    "y['Index'].head(4)\n",
    "\n",
    "#We can see that while most crops have only one type of pollination, several crops have 2 types of pollination methods"
   ]
  },
  {
   "cell_type": "code",
   "execution_count": 10,
   "id": "11e2171f",
   "metadata": {},
   "outputs": [
    {
     "data": {
      "text/plain": [
       "Count of Climate and weather\n",
       "1    107\n",
       "2     19\n",
       "3     19\n",
       "4     11\n",
       "Name: Index, dtype: int64"
      ]
     },
     "execution_count": 10,
     "metadata": {},
     "output_type": "execute_result"
    }
   ],
   "source": [
    "#Climate and weather\n",
    "\n",
    "x1 = df[df['Count of Climate and weather']>0]\n",
    "x = x1.groupby('Count of Climate and weather').count()\n",
    "y=x.sort_values(['Count of Climate and weather'],ascending=True)\n",
    "y['Index'].head(4)\n",
    "\n",
    "\n",
    "#The majority of the crops grow only in one type of climate. This makes sense because crop species are highly dependent on the weather patterns of their area of origin."
   ]
  },
  {
   "cell_type": "code",
   "execution_count": 11,
   "id": "ef551af1",
   "metadata": {},
   "outputs": [
    {
     "data": {
      "text/plain": [
       "(array([ 24.,  83., 247., 224.,  45.,  11.,  12.,   3.,   0.,   0.,   1.]),\n",
       " array([ 0.        ,  1.27272727,  2.54545455,  3.81818182,  5.09090909,\n",
       "         6.36363636,  7.63636364,  8.90909091, 10.18181818, 11.45454545,\n",
       "        12.72727273, 14.        ]),\n",
       " <BarContainer object of 11 artists>)"
      ]
     },
     "execution_count": 11,
     "metadata": {},
     "output_type": "execute_result"
    },
    {
     "data": {
      "image/png": "[encoded data removed]",
      "text/plain": [
       "<Figure size 432x288 with 1 Axes>"
      ]
     },
     "metadata": {
      "needs_background": "light"
     },
     "output_type": "display_data"
    }
   ],
   "source": [
    "#Which crops belong to the most number of categories, that is, have diverse uses?\n",
    "\n",
    "plt.hist(df['Count of Crop Categories'], bins = 11,color='g')\n",
    "\n",
    "#Almost all crops belong to multiple categories, and most crops belong to 3 or 4 categories. This might be related to the fact that world crop databases would tend to index crops which have multiple uses, are very widespread, and are of great importance to the general population. "
   ]
  },
  {
   "cell_type": "code",
   "execution_count": 12,
   "id": "77d1ecc6",
   "metadata": {},
   "outputs": [
    {
     "data": {
      "text/html": [
       "<div>\n",
       "<style scoped>\n",
       "    .dataframe tbody tr th:only-of-type {\n",
       "        vertical-align: middle;\n",
       "    }\n",
       "\n",
       "    .dataframe tbody tr th {\n",
       "        vertical-align: top;\n",
       "    }\n",
       "\n",
       "    .dataframe thead th {\n",
       "        text-align: right;\n",
       "    }\n",
       "</style>\n",
       "<table border=\"1\" class=\"dataframe\">\n",
       "  <thead>\n",
       "    <tr style=\"text-align: right;\">\n",
       "      <th></th>\n",
       "      <th>0</th>\n",
       "    </tr>\n",
       "  </thead>\n",
       "  <tbody>\n",
       "    <tr>\n",
       "      <th>English</th>\n",
       "      <td>3.152308</td>\n",
       "    </tr>\n",
       "    <tr>\n",
       "      <th>Dutch</th>\n",
       "      <td>1.510769</td>\n",
       "    </tr>\n",
       "    <tr>\n",
       "      <th>Spanish</th>\n",
       "      <td>1.510769</td>\n",
       "    </tr>\n",
       "    <tr>\n",
       "      <th>French</th>\n",
       "      <td>1.526154</td>\n",
       "    </tr>\n",
       "    <tr>\n",
       "      <th>German</th>\n",
       "      <td>1.989231</td>\n",
       "    </tr>\n",
       "  </tbody>\n",
       "</table>\n",
       "</div>"
      ],
      "text/plain": [
       "                0\n",
       "English  3.152308\n",
       "Dutch    1.510769\n",
       "Spanish  1.510769\n",
       "French   1.526154\n",
       "German   1.989231"
      ]
     },
     "execution_count": 12,
     "metadata": {},
     "output_type": "execute_result"
    }
   ],
   "source": [
    "#Analysis of names\n",
    "#On average, which language contains the most names for crops\n",
    "\n",
    "name_mean = pd.DataFrame([df['Count English'].mean(),df['Count Dutch'].mean(),df['Count Spanish'].mean(),df['Count French'].mean(),df['Count German'].mean()])\n",
    "name_mean.index = ['English','Dutch','Spanish','French','German']\n",
    "name_mean\n",
    "\n",
    "#On average, the English language contains the most variants of names for crops "
   ]
  },
  {
   "cell_type": "code",
   "execution_count": 13,
   "id": "d6f509c9",
   "metadata": {},
   "outputs": [
    {
     "data": {
      "text/plain": [
       "Text(0, 0.5, 'Number of crops')"
      ]
     },
     "execution_count": 13,
     "metadata": {},
     "output_type": "execute_result"
    },
    {
     "data": {
      "image/png": "[encoded data removed]",
      "text/plain": [
       "<Figure size 432x288 with 1 Axes>"
      ]
     },
     "metadata": {
      "needs_background": "light"
     },
     "output_type": "display_data"
    }
   ],
   "source": [
    "#Distribution of crops by number of English names\n",
    "\n",
    "plt.hist(df['Count English'], bins = 15,color='g')\n",
    "plt.xlabel('Number of English names')\n",
    "plt.ylabel('Number of crops')\n",
    "\n",
    "#Most crops have between 1 to 5 names"
   ]
  },
  {
   "cell_type": "code",
   "execution_count": 14,
   "id": "23f2c801",
   "metadata": {},
   "outputs": [
    {
     "data": {
      "text/plain": [
       "Count of Annual, biennial, or perennial\n",
       "1    71\n",
       "2    19\n",
       "Name: Index, dtype: int64"
      ]
     },
     "execution_count": 14,
     "metadata": {},
     "output_type": "execute_result"
    }
   ],
   "source": [
    "#Annual, biennial, or perennial\n",
    "\n",
    "x1 = df[df['Count of Annual, biennial, or perennial']>0]\n",
    "x = x1.groupby('Count of Annual, biennial, or perennial').count()\n",
    "y=x.sort_values(['Count of Annual, biennial, or perennial'],ascending=True)\n",
    "y['Index']\n",
    "\n",
    "#Most of the crops have only type of cropping pattern reported. This makes sense because an annual or biennial crop cannot be perinial as well."
   ]
  }
 ],
 "metadata": {
  "kernelspec": {
   "display_name": "Python 3",
   "language": "python",
   "name": "python3"
  },
  "language_info": {
   "codemirror_mode": {
    "name": "ipython",
    "version": 3
   },
   "file_extension": ".py",
   "mimetype": "text/x-python",
   "name": "python",
   "nbconvert_exporter": "python",
   "pygments_lexer": "ipython3",
   "version": "3.8.8"
  }
 },
 "nbformat": 4,
 "nbformat_minor": 5
}
